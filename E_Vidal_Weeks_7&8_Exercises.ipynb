{
 "cells": [
  {
   "cell_type": "markdown",
   "metadata": {},
   "source": [
    "You can choose from either of these two datasets:\n",
    "\n",
    "1. Data Wrangling with Python: Activity 9, page 294"
   ]
  },
  {
   "cell_type": "markdown",
   "metadata": {},
   "source": [
    "Import the necessary libraries"
   ]
  },
  {
   "cell_type": "code",
   "execution_count": 1,
   "metadata": {},
   "outputs": [],
   "source": [
    "import urllib.request, urllib.parse, urllib.error\n",
    "import requests\n",
    "from bs4 import BeautifulSoup\n",
    "import ssl\n",
    "import re"
   ]
  },
  {
   "cell_type": "markdown",
   "metadata": {},
   "source": [
    "Check the SSL Certificate"
   ]
  },
  {
   "cell_type": "code",
   "execution_count": 2,
   "metadata": {},
   "outputs": [],
   "source": [
    "# Ignore SSL certificate errors\n",
    "ctx = ssl.create_default_context()\n",
    "ctx.check_hostname = False\n",
    "ctx.verify_mode = ssl.CERT_NONE"
   ]
  },
  {
   "cell_type": "markdown",
   "metadata": {},
   "source": [
    "Read the HTML from the URL"
   ]
  },
  {
   "cell_type": "code",
   "execution_count": 3,
   "metadata": {},
   "outputs": [],
   "source": [
    "# Read the HTML from the URL and pass on to BeautifulSoup\n",
    "top100url = 'https://www.gutenberg.org/browse/scores/top'\n",
    "response = requests.get(top100url)"
   ]
  },
  {
   "cell_type": "markdown",
   "metadata": {},
   "source": [
    "Write a small function to check the status of the web request"
   ]
  },
  {
   "cell_type": "code",
   "execution_count": 4,
   "metadata": {},
   "outputs": [],
   "source": [
    "def status_check(r):\n",
    "    if r.status_code==200:\n",
    "        print(\"Success!\")\n",
    "        return 1\n",
    "    else:\n",
    "        print(\"Failed!\")\n",
    "        return -1"
   ]
  },
  {
   "cell_type": "code",
   "execution_count": 5,
   "metadata": {},
   "outputs": [
    {
     "name": "stdout",
     "output_type": "stream",
     "text": [
      "Success!\n"
     ]
    },
    {
     "data": {
      "text/plain": [
       "1"
      ]
     },
     "execution_count": 5,
     "metadata": {},
     "output_type": "execute_result"
    }
   ],
   "source": [
    "status_check(response)"
   ]
  },
  {
   "cell_type": "markdown",
   "metadata": {},
   "source": [
    "Decode the response and pass this on to BeautifulSoup for HTML parsing"
   ]
  },
  {
   "cell_type": "code",
   "execution_count": 6,
   "metadata": {},
   "outputs": [],
   "source": [
    "contents = response.content.decode(response.encoding)"
   ]
  },
  {
   "cell_type": "code",
   "execution_count": 7,
   "metadata": {},
   "outputs": [],
   "source": [
    "soup = BeautifulSoup(contents, 'html.parser')"
   ]
  },
  {
   "cell_type": "markdown",
   "metadata": {},
   "source": [
    "Find all the href tags and store them in the list of links. Check what the list looks like – print the first 30 elements"
   ]
  },
  {
   "cell_type": "code",
   "execution_count": 8,
   "metadata": {},
   "outputs": [],
   "source": [
    "# Empty list to hold all the http links in the HTML page\n",
    "lst_links=[]"
   ]
  },
  {
   "cell_type": "code",
   "execution_count": 9,
   "metadata": {},
   "outputs": [],
   "source": [
    "# Find all the href tags and store them in the list of links\n",
    "for link in soup.find_all('a'):\n",
    "    #print(link.get('href'))\n",
    "    lst_links.append(link.get('href'))"
   ]
  },
  {
   "cell_type": "code",
   "execution_count": 10,
   "metadata": {},
   "outputs": [
    {
     "data": {
      "text/plain": [
       "['/wiki/Main_Page',\n",
       " '/catalog/',\n",
       " '/ebooks/',\n",
       " '/browse/recent/last1',\n",
       " '/browse/scores/top',\n",
       " '/wiki/Gutenberg:Offline_Catalogs',\n",
       " '/catalog/world/mybookmarks',\n",
       " '/wiki/Main_Page',\n",
       " 'https://www.paypal.com/xclick/business=donate%40gutenberg.org&item_name=Donation+to+Project+Gutenberg',\n",
       " '/wiki/Gutenberg:Project_Gutenberg_Needs_Your_Donation',\n",
       " 'http://www.ibiblio.org',\n",
       " 'http://www.pgdp.net/',\n",
       " 'pretty-pictures',\n",
       " '#books-last1',\n",
       " '#authors-last1',\n",
       " '#books-last7',\n",
       " '#authors-last7',\n",
       " '#books-last30',\n",
       " '#authors-last30',\n",
       " '/ebooks/1342',\n",
       " '/ebooks/11',\n",
       " '/ebooks/1635',\n",
       " '/ebooks/1661',\n",
       " '/ebooks/2701',\n",
       " '/ebooks/25525',\n",
       " '/ebooks/1952',\n",
       " '/ebooks/84',\n",
       " '/ebooks/514',\n",
       " '/ebooks/5200',\n",
       " '/ebooks/2591']"
      ]
     },
     "execution_count": 10,
     "metadata": {},
     "output_type": "execute_result"
    }
   ],
   "source": [
    "lst_links[:30]"
   ]
  },
  {
   "cell_type": "markdown",
   "metadata": {},
   "source": [
    "Use a regular expression to find the numeric digits in these links. These are the file numbers for the top 100 eBooks"
   ]
  },
  {
   "cell_type": "markdown",
   "metadata": {},
   "source": [
    "Initialize the empty list to hold the file numbers over an appropriate range and use regex to find the numeric digits in the link href string. Use the findall method"
   ]
  },
  {
   "cell_type": "code",
   "execution_count": 11,
   "metadata": {},
   "outputs": [],
   "source": [
    "# Initialize empty list to hold the file numbers\n",
    "booknum=[]"
   ]
  },
  {
   "cell_type": "code",
   "execution_count": 12,
   "metadata": {},
   "outputs": [],
   "source": [
    "for i in range(19,119):\n",
    "    link=lst_links[i]\n",
    "    link=link.strip()\n",
    "    # Regular expression to find the numeric digits in the link (href) string\n",
    "    n=re.findall('[0-9]+',link)\n",
    "    if len(n)==1:\n",
    "        # Append the filenumber casted as integer\n",
    "        booknum.append(int(n[0]))"
   ]
  },
  {
   "cell_type": "code",
   "execution_count": 13,
   "metadata": {},
   "outputs": [
    {
     "name": "stdout",
     "output_type": "stream",
     "text": [
      "\n",
      "The file numbers for the top 100 ebooks on Gutenberg are shown below\n",
      "----------------------------------------------------------------------\n",
      "[1342, 11, 1635, 1661, 2701, 25525, 1952, 84, 514, 5200, 2591, 2542, 98, 345, 205, 408, 2600, 74, 1080, 158, 120, 1232, 43, 4300, 1184, 174, 1260, 16, 376, 76, 45, 46, 844, 1497, 6130, 1400, 203, 16328, 42108, 5740, 58975, 62720, 2554, 1727, 58585, 902, 113, 55, 62714, 62721, 768, 62724, 135, 2852, 28054, 25344, 2814, 62713, 36, 62718, 215, 148, 3600, 219, 160, 62715, 1998, 27827, 996, 62719, 4363, 730, 62716, 244, 2680, 2500, 147, 766, 23, 40074, 236, 33283, 3207, 1399, 3825, 100, 8800, 22400, 521, 14975, 1250, 29854, 23700, 161, 28860, 25717, 24518, 10609, 12, 829]\n"
     ]
    }
   ],
   "source": [
    "print (\"\\nThe file numbers for the top 100 ebooks on Gutenberg are shown below\\n\"+\"-\"*70)\n",
    "print(booknum)"
   ]
  },
  {
   "cell_type": "markdown",
   "metadata": {},
   "source": [
    "What does the soup object's text look like? Use the .text method and print only the first 2,000 characters (do not print the whole thing, as it is too long)."
   ]
  },
  {
   "cell_type": "code",
   "execution_count": 14,
   "metadata": {},
   "outputs": [
    {
     "name": "stdout",
     "output_type": "stream",
     "text": [
      "\n",
      "\n",
      "\n",
      "\n",
      "\n",
      "\n",
      "\n",
      "\n",
      "\n",
      "      if (top != self) {\n",
      "        top.location.replace ('http://www.gutenberg.org');\n",
      "        alert ('Project Gutenberg is a FREE service with NO membership required. If you paid somebody else to get here, make them give you your money back!');\n",
      "      }\n",
      "    \n",
      " \n",
      "Top 100 - Project Gutenberg\n",
      "\n",
      "\n",
      "\n",
      "\n",
      "\n",
      "\n",
      "\n",
      "\n",
      "Online Book Catalog\n",
      "=> \n",
      "\n",
      "\n",
      "\n",
      " Book  Search\n",
      "-- Recent  Books\n",
      "-- Top  100\n",
      "-- Offline Catalogs\n",
      "-- My Bookmarks\n",
      "\n",
      "\n",
      "Main Page\n",
      "\n",
      "\n",
      "\n",
      "\n",
      "Project Gutenberg needs your donation! \n",
      "        More Info\n",
      "\n",
      "\n",
      "\n",
      "\n",
      "\n",
      "\n",
      "\n",
      "\n",
      "Did you know that you can help us produce ebooks\n",
      "by proof-reading just one page a day?\n",
      "Go to: Distributed Proofreaders\n",
      "\n",
      "\n",
      "\n",
      "Top 100\n",
      "\n",
      "\n",
      "To determine the ranking we count the times each file gets downloaded.\n",
      "Both HTTP and FTP transfers are counted.\n",
      "Only transfers from ibiblio.org are counted as we have no access to our mirrors log files.\n",
      "Multiple downloads from the same IP address on the same day count as one download.\n",
      "IP addresses that download more than 100 files a day are considered\n",
      "robots and are not considered.\n",
      "Books made out of multiple files like most audio books are counted\n",
      "if any file is downloaded.\n",
      "\n",
      "Downloaded Books\n",
      "2020-07-22171532\n",
      "last 7 days1205967\n",
      "last 30 days5386104\n",
      "\n",
      "Pretty Pictures\n",
      "\n",
      "Top 100 EBooks yesterday —\n",
      "  Top 100 Authors yesterday —\n",
      "  Top 100 EBooks last 7 days —\n",
      "  Top 100 Authors last 7 days —\n",
      "  Top 100 EBooks last 30 days —\n",
      "  Top 100 Authors last 30 days\n",
      "\n",
      "Top 100 EBooks yesterday\n",
      "\n",
      "Pride and Prejudice by Jane Austen (1504)\n",
      "Alice's Adventures in Wonderland by Lewis Carroll (1053)\n",
      "Ion by Plato (734)\n",
      "The Adventures of Sherlock Holmes by Arthur Conan Doyle (729)\n",
      "Moby Dick; Or, The Whale by Herman Melville (715)\n",
      "The Works of Edgar Allan Poe, The Raven Edition by Edgar Allan Poe (713)\n",
      "The Yellow Wallpaper by Charlotte Perkins Gilman (570)\n",
      "Frankenstein; Or, The Modern Prometheus by Mary Wollstonecraft Shelley (547)\n",
      "Little Women by Louisa May Alcott (496)\n",
      "Metamorphosis by Franz Kafka (490)\n",
      "Grimms' Fairy Tales by Jacob Grimm and Wilhelm Grimm (477)\n",
      "Et dukkehjem. English by He\n"
     ]
    }
   ],
   "source": [
    "print(soup.text[:2000])"
   ]
  },
  {
   "cell_type": "markdown",
   "metadata": {},
   "source": [
    "Search in the extracted text (using a regular expression) from the soup object to find the names of the top 100 eBooks (yesterday's ranking)."
   ]
  },
  {
   "cell_type": "code",
   "execution_count": 16,
   "metadata": {},
   "outputs": [],
   "source": [
    "# Temp empty list of Ebook names\n",
    "lst_titles_temp=[]"
   ]
  },
  {
   "cell_type": "markdown",
   "metadata": {},
   "source": [
    "Create a starting index. It should point at the text Top 100 Ebooks yesterday. Use the splitlines method of soup.text. It splits the lines of text of the soup object"
   ]
  },
  {
   "cell_type": "code",
   "execution_count": 17,
   "metadata": {},
   "outputs": [],
   "source": [
    "start_idx=soup.text.splitlines().index('Top 100 EBooks yesterday')"
   ]
  },
  {
   "cell_type": "markdown",
   "metadata": {},
   "source": [
    "Loop 1-100 to add the strings of the next 100 lines to this temporary list. Hint: use the splitlines method."
   ]
  },
  {
   "cell_type": "code",
   "execution_count": 18,
   "metadata": {},
   "outputs": [],
   "source": [
    "for i in range(100):\n",
    "    lst_titles_temp.append(soup.text.splitlines()[start_idx+2+i])"
   ]
  },
  {
   "cell_type": "markdown",
   "metadata": {},
   "source": [
    "Use a regular expression to extract only text from the name strings and append it to an empty list. Use match and span to find the indices and use them."
   ]
  },
  {
   "cell_type": "code",
   "execution_count": 19,
   "metadata": {},
   "outputs": [],
   "source": [
    "lst_titles=[]\n",
    "for i in range(100):\n",
    "    id1,id2=re.match('^[a-zA-Z ]*',lst_titles_temp[i]).span()\n",
    "    lst_titles.append(lst_titles_temp[i][id1:id2])"
   ]
  },
  {
   "cell_type": "markdown",
   "metadata": {},
   "source": [
    "Print the list of titles"
   ]
  },
  {
   "cell_type": "code",
   "execution_count": 20,
   "metadata": {},
   "outputs": [
    {
     "name": "stdout",
     "output_type": "stream",
     "text": [
      "Pride and Prejudice by Jane Austen \n",
      "Alice\n",
      "Ion by Plato \n",
      "The Adventures of Sherlock Holmes by Arthur Conan Doyle \n",
      "Moby Dick\n",
      "The Works of Edgar Allan Poe\n",
      "The Yellow Wallpaper by Charlotte Perkins Gilman \n",
      "Frankenstein\n",
      "Little Women by Louisa May Alcott \n",
      "Metamorphosis by Franz Kafka \n",
      "Grimms\n",
      "Et dukkehjem\n",
      "A Tale of Two Cities by Charles Dickens \n",
      "Dracula by Bram Stoker \n",
      "Walden\n",
      "The Souls of Black Folk by W\n",
      "War and Peace by graf Leo Tolstoy \n",
      "The Adventures of Tom Sawyer by Mark Twain \n",
      "A Modest Proposal by Jonathan Swift \n",
      "Emma by Jane Austen \n",
      "Treasure Island by Robert Louis Stevenson \n",
      "Il Principe\n",
      "The Strange Case of Dr\n",
      "Ulysses by James Joyce \n",
      "The Count of Monte Cristo\n",
      "The Picture of Dorian Gray by Oscar Wilde \n",
      "Jane Eyre\n",
      "Peter Pan by J\n",
      "A Journal of the Plague Year by Daniel Defoe \n",
      "Adventures of Huckleberry Finn by Mark Twain \n",
      "Anne of Green Gables by L\n",
      "A Christmas Carol in Prose\n",
      "The Importance of Being Earnest\n",
      "The Republic by Plato \n",
      "The Iliad by Homer \n",
      "Great Expectations by Charles Dickens \n",
      "Uncle Tom\n",
      "Beowulf\n",
      "The Slang Dictionary\n",
      "Tractatus Logico\n",
      "Index of Project Gutenberg Works on Black History by Various \n",
      "A Short Narrative Of an Extraordinary Delivery of Rabbets\n",
      "Prestuplenie i nakazanie\n",
      "The Odyssey by Homer \n",
      "The Prophet by Kahlil Gibran \n",
      "The Happy Prince\n",
      "The Secret Garden by Frances Hodgson Burnett \n",
      "The Wonderful Wizard of Oz by L\n",
      "The House of Delight by Gertrude Chandler Warner \n",
      "Sognando by Matilde Serao \n",
      "Wuthering Heights by Emily Bront\n",
      "Americans by Charles Dana Gibson \n",
      "Les Mis\n",
      "The Hound of the Baskervilles by Arthur Conan Doyle \n",
      "The Brothers Karamazov by Fyodor Dostoyevsky \n",
      "The Scarlet Letter by Nathaniel Hawthorne \n",
      "Dubliners by James Joyce \n",
      "Crypt\n",
      "The War of the Worlds by H\n",
      "Discover the Excitement of Hairpin Lace \n",
      "The Call of the Wild by Jack London \n",
      "The Autobiography of Benjamin Franklin by Benjamin Franklin \n",
      "Essays of Michel de Montaigne \n",
      "Heart of Darkness by Joseph Conrad \n",
      "The Awakening\n",
      "Drug Plants Under Cultivation by W\n",
      "Also sprach Zarathustra\n",
      "The Kama Sutra of Vatsyayana by Vatsyayana \n",
      "Don Quixote by Miguel de Cervantes Saavedra \n",
      "Frank Merriwell\n",
      "Beyond Good and Evil by Friedrich Wilhelm Nietzsche \n",
      "Oliver Twist by Charles Dickens \n",
      "The happy villagers by Anonymous \n",
      "A Study in Scarlet by Arthur Conan Doyle \n",
      "Meditations by Emperor of Rome Marcus Aurelius \n",
      "Siddhartha by Hermann Hesse \n",
      "Common Sense by Thomas Paine \n",
      "David Copperfield by Charles Dickens \n",
      "Narrative of the Life of Frederick Douglass\n",
      "A Dictionary of Cebuano Visayan by John U\n",
      "The Jungle Book by Rudyard Kipling \n",
      "Calculus Made Easy by Silvanus P\n",
      "Leviathan by Thomas Hobbes \n",
      "Anna Karenina by graf Leo Tolstoy \n",
      "Pygmalion by Bernard Shaw \n",
      "The Complete Works of William Shakespeare by William Shakespeare \n",
      "An Index of The Divine Comedy by Dante by Dante Alighieri \n",
      "Fox\n",
      "The Life and Adventures of Robinson Crusoe by Daniel Defoe \n",
      "Southern Horrors\n",
      "Anthem by Ayn Rand \n",
      "The Works of Aphra Behn\n",
      "The Decameron of Giovanni Boccaccio by Giovanni Boccaccio \n",
      "Sense and Sensibility by Jane Austen \n",
      "The Memoirs\n",
      "The History of the Decline and Fall of the Roman Empire by Edward Gibbon \n",
      "Memoirs of Extraordinary Popular Delusions and the Madness of Crowds by Charles Mackay \n",
      "English Literature by William J\n",
      "Through the Looking\n",
      "Gulliver\n"
     ]
    }
   ],
   "source": [
    "for l in lst_titles:\n",
    "    print(l)"
   ]
  },
  {
   "cell_type": "markdown",
   "metadata": {},
   "source": []
  },
  {
   "cell_type": "markdown",
   "metadata": {},
   "source": [
    "2. Data Wrangling with Python: Activity 10, page 295"
   ]
  },
  {
   "cell_type": "markdown",
   "metadata": {},
   "source": [
    "Import urllib.request, urllib.parse, urllib.error, and json. The first there are already imported. I'll just import\n",
    "json."
   ]
  },
  {
   "cell_type": "code",
   "execution_count": 21,
   "metadata": {},
   "outputs": [],
   "source": [
    "import json"
   ]
  },
  {
   "cell_type": "code",
   "execution_count": 22,
   "metadata": {},
   "outputs": [],
   "source": [
    "credentials={'OMDBapi':'7905128c'}"
   ]
  },
  {
   "cell_type": "code",
   "execution_count": 23,
   "metadata": {},
   "outputs": [],
   "source": [
    "json_object = json.dumps(credentials)"
   ]
  },
  {
   "cell_type": "code",
   "execution_count": 24,
   "metadata": {},
   "outputs": [],
   "source": [
    "with open('APIkeys.json','w')as outfile:\n",
    "    outfile.write(json_object)"
   ]
  },
  {
   "cell_type": "code",
   "execution_count": 25,
   "metadata": {},
   "outputs": [
    {
     "name": "stdout",
     "output_type": "stream",
     "text": [
      "{'OMDBapi': '7905128c'}\n"
     ]
    }
   ],
   "source": [
    "with open('APIkeys.json','r')as openfile:\n",
    "    json_object2 = json.load(openfile)\n",
    "    print(json_object2)"
   ]
  },
  {
   "cell_type": "code",
   "execution_count": 27,
   "metadata": {},
   "outputs": [
    {
     "name": "stdout",
     "output_type": "stream",
     "text": [
      "7905128c\n"
     ]
    }
   ],
   "source": [
    "with open('APIkeys.json')as f:\n",
    "    keys=json.load(f)\n",
    "    omdbapi = keys['OMDBapi']\n",
    "    print(omdbapi)"
   ]
  },
  {
   "cell_type": "code",
   "execution_count": 28,
   "metadata": {},
   "outputs": [],
   "source": [
    "serviceurl = 'http://.omdbapi.com/?'"
   ]
  },
  {
   "cell_type": "code",
   "execution_count": 29,
   "metadata": {},
   "outputs": [],
   "source": [
    "apikey =  '&apikey='+omdbapi"
   ]
  },
  {
   "cell_type": "code",
   "execution_count": 30,
   "metadata": {},
   "outputs": [],
   "source": [
    "def print_json(json_data):\n",
    "    list_keys = ['Title','Year','Rated','Released','Runtime','Genre','Director','Writer','Actors','Plot','Language',\n",
    "                'Country','Awards','Ratings','Metascore','imdbRating','imdbVotes','imdbID']\n",
    "    print(\"-\"*50)\n",
    "    for k in list_keys:\n",
    "        if k in list(json_data.keys()):\n",
    "            print(f\"{k}:{json_data[K]}\")\n",
    "            print(\"-\"*50)"
   ]
  },
  {
   "cell_type": "code",
   "execution_count": 31,
   "metadata": {},
   "outputs": [],
   "source": [
    "def save_poster(json_data):\n",
    "    import os\n",
    "    title = json_data['Title']\n",
    "    poster_url = json_data['Poster']\n",
    "    poster_file_extension=poster_url.split('.')[-1]\n",
    "    poster_data = urllib.request.urlopen(poster_url).read()\n",
    "    savelocation=os.getcwd()+'\\\\'+'Posters'+'\\\\'\n",
    "    if not os.path.isdir(savelocation):\n",
    "        os.mkdir(savelocation)\n",
    "        filename=savelocation+str(title)+'.'+poster_-file_extension\n",
    "        f=open(filename,'wb')\n",
    "        f.write(poster_data)\n",
    "        f.close()"
   ]
  },
  {
   "cell_type": "code",
   "execution_count": 32,
   "metadata": {},
   "outputs": [],
   "source": [
    "def search_movie(title):\n",
    "    try:\n",
    "        url = serviceurl+urllib.parse.urlencode({'t':str(title)})+apikey\n",
    "        print(creds)\n",
    "        print(url)\n",
    "        uh = urllib.request.urlopen(url)\n",
    "        data = uh.read()\n",
    "        json_data=json.loads(data)\n",
    "        if json_data['Response']=='True':\n",
    "            print_json(json_data)\n",
    "            if json_data['Poster']!='N/A':\n",
    "                save_poster(json_data)\n",
    "            else:\n",
    "                print(\"Error encountered: \",json_data['Error'])\n",
    "    except urllib.error.URLError as e:\n",
    "        print(\"ERROR:\")"
   ]
  },
  {
   "cell_type": "code",
   "execution_count": 33,
   "metadata": {},
   "outputs": [
    {
     "name": "stdout",
     "output_type": "stream",
     "text": [
      "Title: Titanic\n",
      "Year: 1997\n",
      "Rated: PG-13\n",
      "Released: 19 Dec 1997\n",
      "Runtime: 194 min\n",
      "Genre: Drama, Romance\n",
      "Director: James Cameron\n",
      "Writer: James Cameron\n",
      "Actors: Leonardo DiCaprio, Kate Winslet, Billy Zane, Kathy Bates\n",
      "Plot: A seventeen-year-old aristocrat falls in love with a kind but poor artist aboard the luxurious, ill-fated R.M.S. Titanic.\n",
      "Language: English, Swedish, Italian, French\n",
      "Country: USA, Mexico, Australia, Canada\n",
      "Awards: Won 11 Oscars. Another 113 wins & 83 nominations.\n",
      "Poster: https://m.media-amazon.com/images/M/MV5BMDdmZGU3NDQtY2E5My00ZTliLWIzOTUtMTY4ZGI1YjdiNjk3XkEyXkFqcGdeQXVyNTA4NzY1MzY@._V1_SX300.jpg\n",
      "Ratings: [{'Source': 'Internet Movie Database', 'Value': '7.8/10'}, {'Source': 'Rotten Tomatoes', 'Value': '89%'}, {'Source': 'Metacritic', 'Value': '75/100'}]\n",
      "Metascore: 75\n",
      "imdbRating: 7.8\n",
      "imdbVotes: 1,018,292\n",
      "imdbID: tt0120338\n",
      "Type: movie\n",
      "DVD: 10 Sep 2012\n",
      "BoxOffice: N/A\n",
      "Production: Paramount Pictures\n",
      "Website: N/A\n",
      "Response: True\n"
     ]
    }
   ],
   "source": [
    "import requests\n",
    "url = \"http://www.omdbapi.com/?t=Titanic&apikey=7905128c\"\n",
    "r = requests.get(url)\n",
    "json_data = r.json()\n",
    "for key, value in json_data.items():\n",
    "    print(key+':',value)"
   ]
  },
  {
   "cell_type": "markdown",
   "metadata": {},
   "source": [
    "3. Connect to the Twitter API and do a simple data pull\n",
    "\n",
    "a. If you don’t have a twitter account – create one at twitter.com/signup (you can delete the account after this assignment)\n",
    "\n",
    "b. Sign in to apps.twitter.com\n",
    "\n",
    "c. Click “Create New App”\n",
    "\n",
    "d. Give your app a name and description\n",
    "\n",
    "e. Agree to the developer agreement – you will want to make sure to indicate this is for a class project, and this step can take several days to get through, so don’t wait until the last minute to complete this portion of the assignment\n",
    "\n",
    "f. Create an access token\n",
    "\n",
    "g. You should receive a consumer key and a token\n",
    "\n",
    "h. Using either the instructions from the book on connecting to an API or for help look here – pull back data searching for “Bellevue University” and “Data Science” (or something else you are interested in)"
   ]
  },
  {
   "cell_type": "code",
   "execution_count": 34,
   "metadata": {},
   "outputs": [],
   "source": [
    "import twitter\n",
    "import json"
   ]
  },
  {
   "cell_type": "code",
   "execution_count": 35,
   "metadata": {},
   "outputs": [
    {
     "ename": "TwitterError",
     "evalue": "[{'code': 89, 'message': 'Invalid or expired token.'}]",
     "output_type": "error",
     "traceback": [
      "\u001b[1;31m---------------------------------------------------------------------------\u001b[0m",
      "\u001b[1;31mTwitterError\u001b[0m                              Traceback (most recent call last)",
      "\u001b[1;32m<ipython-input-35-87490c310378>\u001b[0m in \u001b[0;36m<module>\u001b[1;34m\u001b[0m\n\u001b[0;32m      3\u001b[0m                \u001b[0maccess_token_key\u001b[0m\u001b[1;33m=\u001b[0m\u001b[1;34m'your_access_token_key'\u001b[0m\u001b[1;33m,\u001b[0m\u001b[1;33m\u001b[0m\u001b[1;33m\u001b[0m\u001b[0m\n\u001b[0;32m      4\u001b[0m                access_token_secret='your_access_token_secret')\n\u001b[1;32m----> 5\u001b[1;33m \u001b[0mprint\u001b[0m\u001b[1;33m(\u001b[0m\u001b[0mapi\u001b[0m\u001b[1;33m.\u001b[0m\u001b[0mVerifyCredentials\u001b[0m\u001b[1;33m(\u001b[0m\u001b[1;33m)\u001b[0m\u001b[1;33m)\u001b[0m\u001b[1;33m\u001b[0m\u001b[1;33m\u001b[0m\u001b[0m\n\u001b[0m\u001b[0;32m      6\u001b[0m \u001b[0mstatuses\u001b[0m \u001b[1;33m=\u001b[0m \u001b[0mapi\u001b[0m\u001b[1;33m.\u001b[0m\u001b[0mGetUserTimeline\u001b[0m\u001b[1;33m(\u001b[0m\u001b[0mscreen_name\u001b[0m\u001b[1;33m=\u001b[0m\u001b[1;34m'Bellevue University'\u001b[0m\u001b[1;33m)\u001b[0m\u001b[1;33m\u001b[0m\u001b[1;33m\u001b[0m\u001b[0m\n\u001b[0;32m      7\u001b[0m \u001b[0mprint\u001b[0m\u001b[1;33m(\u001b[0m\u001b[1;33m[\u001b[0m\u001b[0ms\u001b[0m\u001b[1;33m.\u001b[0m\u001b[0mtext\u001b[0m \u001b[1;32mfor\u001b[0m \u001b[0ms\u001b[0m \u001b[1;32min\u001b[0m \u001b[0mstatuses\u001b[0m\u001b[1;33m]\u001b[0m\u001b[1;33m)\u001b[0m\u001b[1;33m\u001b[0m\u001b[1;33m\u001b[0m\u001b[0m\n",
      "\u001b[1;32m~\\anaconda3\\lib\\site-packages\\twitter\\api.py\u001b[0m in \u001b[0;36mVerifyCredentials\u001b[1;34m(self, include_entities, skip_status, include_email)\u001b[0m\n\u001b[0;32m   4698\u001b[0m \u001b[1;33m\u001b[0m\u001b[0m\n\u001b[0;32m   4699\u001b[0m         \u001b[0mresp\u001b[0m \u001b[1;33m=\u001b[0m \u001b[0mself\u001b[0m\u001b[1;33m.\u001b[0m\u001b[0m_RequestUrl\u001b[0m\u001b[1;33m(\u001b[0m\u001b[0murl\u001b[0m\u001b[1;33m,\u001b[0m \u001b[1;34m'GET'\u001b[0m\u001b[1;33m,\u001b[0m \u001b[0mdata\u001b[0m\u001b[1;33m)\u001b[0m\u001b[1;33m\u001b[0m\u001b[1;33m\u001b[0m\u001b[0m\n\u001b[1;32m-> 4700\u001b[1;33m         \u001b[0mdata\u001b[0m \u001b[1;33m=\u001b[0m \u001b[0mself\u001b[0m\u001b[1;33m.\u001b[0m\u001b[0m_ParseAndCheckTwitter\u001b[0m\u001b[1;33m(\u001b[0m\u001b[0mresp\u001b[0m\u001b[1;33m.\u001b[0m\u001b[0mcontent\u001b[0m\u001b[1;33m.\u001b[0m\u001b[0mdecode\u001b[0m\u001b[1;33m(\u001b[0m\u001b[1;34m'utf-8'\u001b[0m\u001b[1;33m)\u001b[0m\u001b[1;33m)\u001b[0m\u001b[1;33m\u001b[0m\u001b[1;33m\u001b[0m\u001b[0m\n\u001b[0m\u001b[0;32m   4701\u001b[0m \u001b[1;33m\u001b[0m\u001b[0m\n\u001b[0;32m   4702\u001b[0m         \u001b[1;32mreturn\u001b[0m \u001b[0mUser\u001b[0m\u001b[1;33m.\u001b[0m\u001b[0mNewFromJsonDict\u001b[0m\u001b[1;33m(\u001b[0m\u001b[0mdata\u001b[0m\u001b[1;33m)\u001b[0m\u001b[1;33m\u001b[0m\u001b[1;33m\u001b[0m\u001b[0m\n",
      "\u001b[1;32m~\\anaconda3\\lib\\site-packages\\twitter\\api.py\u001b[0m in \u001b[0;36m_ParseAndCheckTwitter\u001b[1;34m(self, json_data)\u001b[0m\n\u001b[0;32m   4906\u001b[0m                 \u001b[1;32mraise\u001b[0m \u001b[0mTwitterError\u001b[0m\u001b[1;33m(\u001b[0m\u001b[1;33m{\u001b[0m\u001b[1;34m'message'\u001b[0m\u001b[1;33m:\u001b[0m \u001b[1;34m\"Unauthorized\"\u001b[0m\u001b[1;33m}\u001b[0m\u001b[1;33m)\u001b[0m\u001b[1;33m\u001b[0m\u001b[1;33m\u001b[0m\u001b[0m\n\u001b[0;32m   4907\u001b[0m             \u001b[1;32mraise\u001b[0m \u001b[0mTwitterError\u001b[0m\u001b[1;33m(\u001b[0m\u001b[1;33m{\u001b[0m\u001b[1;34m'Unknown error'\u001b[0m\u001b[1;33m:\u001b[0m \u001b[1;34m'{0}'\u001b[0m\u001b[1;33m.\u001b[0m\u001b[0mformat\u001b[0m\u001b[1;33m(\u001b[0m\u001b[0mjson_data\u001b[0m\u001b[1;33m)\u001b[0m\u001b[1;33m}\u001b[0m\u001b[1;33m)\u001b[0m\u001b[1;33m\u001b[0m\u001b[1;33m\u001b[0m\u001b[0m\n\u001b[1;32m-> 4908\u001b[1;33m         \u001b[0mself\u001b[0m\u001b[1;33m.\u001b[0m\u001b[0m_CheckForTwitterError\u001b[0m\u001b[1;33m(\u001b[0m\u001b[0mdata\u001b[0m\u001b[1;33m)\u001b[0m\u001b[1;33m\u001b[0m\u001b[1;33m\u001b[0m\u001b[0m\n\u001b[0m\u001b[0;32m   4909\u001b[0m         \u001b[1;32mreturn\u001b[0m \u001b[0mdata\u001b[0m\u001b[1;33m\u001b[0m\u001b[1;33m\u001b[0m\u001b[0m\n\u001b[0;32m   4910\u001b[0m \u001b[1;33m\u001b[0m\u001b[0m\n",
      "\u001b[1;32m~\\anaconda3\\lib\\site-packages\\twitter\\api.py\u001b[0m in \u001b[0;36m_CheckForTwitterError\u001b[1;34m(data)\u001b[0m\n\u001b[0;32m   4926\u001b[0m             \u001b[1;32mraise\u001b[0m \u001b[0mTwitterError\u001b[0m\u001b[1;33m(\u001b[0m\u001b[0mdata\u001b[0m\u001b[1;33m[\u001b[0m\u001b[1;34m'error'\u001b[0m\u001b[1;33m]\u001b[0m\u001b[1;33m)\u001b[0m\u001b[1;33m\u001b[0m\u001b[1;33m\u001b[0m\u001b[0m\n\u001b[0;32m   4927\u001b[0m         \u001b[1;32mif\u001b[0m \u001b[1;34m'errors'\u001b[0m \u001b[1;32min\u001b[0m \u001b[0mdata\u001b[0m\u001b[1;33m:\u001b[0m\u001b[1;33m\u001b[0m\u001b[1;33m\u001b[0m\u001b[0m\n\u001b[1;32m-> 4928\u001b[1;33m             \u001b[1;32mraise\u001b[0m \u001b[0mTwitterError\u001b[0m\u001b[1;33m(\u001b[0m\u001b[0mdata\u001b[0m\u001b[1;33m[\u001b[0m\u001b[1;34m'errors'\u001b[0m\u001b[1;33m]\u001b[0m\u001b[1;33m)\u001b[0m\u001b[1;33m\u001b[0m\u001b[1;33m\u001b[0m\u001b[0m\n\u001b[0m\u001b[0;32m   4929\u001b[0m \u001b[1;33m\u001b[0m\u001b[0m\n\u001b[0;32m   4930\u001b[0m     \u001b[1;32mdef\u001b[0m \u001b[0m_RequestChunkedUpload\u001b[0m\u001b[1;33m(\u001b[0m\u001b[0mself\u001b[0m\u001b[1;33m,\u001b[0m \u001b[0murl\u001b[0m\u001b[1;33m,\u001b[0m \u001b[0mheaders\u001b[0m\u001b[1;33m,\u001b[0m \u001b[0mdata\u001b[0m\u001b[1;33m)\u001b[0m\u001b[1;33m:\u001b[0m\u001b[1;33m\u001b[0m\u001b[1;33m\u001b[0m\u001b[0m\n",
      "\u001b[1;31mTwitterError\u001b[0m: [{'code': 89, 'message': 'Invalid or expired token.'}]"
     ]
    }
   ],
   "source": [
    "api=twitter.Api(consumer_key='your_consumer_key',\n",
    "                consumer_secret='your_consumer_secret',\n",
    "               access_token_key='your_access_token_key',\n",
    "               access_token_secret='your_access_token_secret')\n",
    "print(api.VerifyCredentials())\n",
    "statuses = api.GetUserTimeline(screen_name='Bellevue University')\n",
    "print([s.text for s in statuses])"
   ]
  },
  {
   "cell_type": "markdown",
   "metadata": {},
   "source": [
    "Alternatively, I can Pull data from the weather API to complete the Twitter Exercise. I still\n",
    "havent gotten my twitter access codes"
   ]
  },
  {
   "cell_type": "code",
   "execution_count": 37,
   "metadata": {},
   "outputs": [],
   "source": [
    "api_key = \"680a8857e7c70fab55b34c1d45fd47ad\" #Api key\n",
    "fahrenheit_unit = \"imperial\" #Using Fahrenheit unit for temperature\n",
    "base_url = \"http://api.openweathermap.org/data/2.5/weather?\" #Host website address"
   ]
  },
  {
   "cell_type": "code",
   "execution_count": 38,
   "metadata": {},
   "outputs": [],
   "source": [
    "complete_url = \"http://api.openweathermap.org/data/2.5/weather?q=London&appid=680a8857e7c70fab55b34c1d45fd47ad\""
   ]
  },
  {
   "cell_type": "code",
   "execution_count": 39,
   "metadata": {},
   "outputs": [
    {
     "name": "stdout",
     "output_type": "stream",
     "text": [
      "<Response [200]>\n"
     ]
    }
   ],
   "source": [
    "response=requests.get(complete_url)\n",
    "print(response)"
   ]
  },
  {
   "cell_type": "code",
   "execution_count": 40,
   "metadata": {},
   "outputs": [
    {
     "name": "stdout",
     "output_type": "stream",
     "text": [
      "{'coord': {'lon': -0.13, 'lat': 51.51}, 'weather': [{'id': 802, 'main': 'Clouds', 'description': 'scattered clouds', 'icon': '03n'}], 'base': 'stations', 'main': {'temp': 285.94, 'feels_like': 284.3, 'temp_min': 284.82, 'temp_max': 287.15, 'pressure': 1007, 'humidity': 93}, 'visibility': 10000, 'wind': {'speed': 3.1, 'deg': 230}, 'clouds': {'all': 40}, 'dt': 1595736515, 'sys': {'type': 1, 'id': 1414, 'country': 'GB', 'sunrise': 1595736950, 'sunset': 1595793478}, 'timezone': 3600, 'id': 2643743, 'name': 'London', 'cod': 200}\n"
     ]
    }
   ],
   "source": [
    "json_data_1=response.json()\n",
    "print(json_data_1)"
   ]
  },
  {
   "cell_type": "markdown",
   "metadata": {},
   "source": [
    "4. Using one of the datasets provided, choose 3 of the following visualizations to complete. You must submit via PDF along with your code. You are free to use Matplotlib, Seaborn or another package if you prefer.\n",
    "\n",
    "a. Line\n",
    "\n",
    "b. Scatter\n",
    "\n",
    "c. Bar\n",
    "\n",
    "d. Histogram\n",
    "\n",
    "e. Density Plot\n",
    "\n",
    "f. Pie Chart"
   ]
  },
  {
   "cell_type": "code",
   "execution_count": 41,
   "metadata": {},
   "outputs": [],
   "source": [
    "import pandas as pd\n",
    "import numpy as np\n",
    "import matplotlib.pyplot as plt"
   ]
  },
  {
   "cell_type": "code",
   "execution_count": 42,
   "metadata": {},
   "outputs": [],
   "source": [
    "visualization = pd.read_csv(\"C:/Users/pro_v/Desktop/multiTimeline.csv\", header=1)"
   ]
  },
  {
   "cell_type": "code",
   "execution_count": 43,
   "metadata": {},
   "outputs": [
    {
     "data": {
      "text/html": [
       "<div>\n",
       "<style scoped>\n",
       "    .dataframe tbody tr th:only-of-type {\n",
       "        vertical-align: middle;\n",
       "    }\n",
       "\n",
       "    .dataframe tbody tr th {\n",
       "        vertical-align: top;\n",
       "    }\n",
       "\n",
       "    .dataframe thead th {\n",
       "        text-align: right;\n",
       "    }\n",
       "</style>\n",
       "<table border=\"1\" class=\"dataframe\">\n",
       "  <thead>\n",
       "    <tr style=\"text-align: right;\">\n",
       "      <th></th>\n",
       "      <th>Month</th>\n",
       "      <th>Cupcake: (Worldwide)</th>\n",
       "    </tr>\n",
       "  </thead>\n",
       "  <tbody>\n",
       "    <tr>\n",
       "      <th>0</th>\n",
       "      <td>2004-01</td>\n",
       "      <td>5</td>\n",
       "    </tr>\n",
       "    <tr>\n",
       "      <th>1</th>\n",
       "      <td>2004-02</td>\n",
       "      <td>6</td>\n",
       "    </tr>\n",
       "    <tr>\n",
       "      <th>2</th>\n",
       "      <td>2004-03</td>\n",
       "      <td>6</td>\n",
       "    </tr>\n",
       "    <tr>\n",
       "      <th>3</th>\n",
       "      <td>2004-04</td>\n",
       "      <td>5</td>\n",
       "    </tr>\n",
       "    <tr>\n",
       "      <th>4</th>\n",
       "      <td>2004-05</td>\n",
       "      <td>6</td>\n",
       "    </tr>\n",
       "  </tbody>\n",
       "</table>\n",
       "</div>"
      ],
      "text/plain": [
       "     Month  Cupcake: (Worldwide)\n",
       "0  2004-01                     5\n",
       "1  2004-02                     6\n",
       "2  2004-03                     6\n",
       "3  2004-04                     5\n",
       "4  2004-05                     6"
      ]
     },
     "execution_count": 43,
     "metadata": {},
     "output_type": "execute_result"
    }
   ],
   "source": [
    "visualization.head()"
   ]
  },
  {
   "cell_type": "code",
   "execution_count": 44,
   "metadata": {},
   "outputs": [
    {
     "name": "stdout",
     "output_type": "stream",
     "text": [
      "<class 'pandas.core.frame.DataFrame'>\n",
      "RangeIndex: 190 entries, 0 to 189\n",
      "Data columns (total 2 columns):\n",
      " #   Column                Non-Null Count  Dtype \n",
      "---  ------                --------------  ----- \n",
      " 0   Month                 190 non-null    object\n",
      " 1   Cupcake: (Worldwide)  190 non-null    int64 \n",
      "dtypes: int64(1), object(1)\n",
      "memory usage: 3.1+ KB\n"
     ]
    }
   ],
   "source": [
    "visualization.info()"
   ]
  },
  {
   "cell_type": "markdown",
   "metadata": {},
   "source": [
    "Line Plot"
   ]
  },
  {
   "cell_type": "code",
   "execution_count": 45,
   "metadata": {},
   "outputs": [
    {
     "data": {
      "text/plain": [
       "<function matplotlib.pyplot.show(*args, **kw)>"
      ]
     },
     "execution_count": 45,
     "metadata": {},
     "output_type": "execute_result"
    },
    {
     "data": {
      "image/png": "[encoded data removed]",
      "text/plain": [
       "<Figure size 432x288 with 1 Axes>"
      ]
     },
     "metadata": {
      "needs_background": "light"
     },
     "output_type": "display_data"
    }
   ],
   "source": [
    "plt.plot(visualization['Month'],visualization['Cupcake: (Worldwide)'])\n",
    "plt.title('Lineplot of Cupcake by Month')\n",
    "plt.xlabel('Month')\n",
    "plt.ylabel('Cupcakes')\n",
    "plt.show"
   ]
  },
  {
   "cell_type": "code",
   "execution_count": 46,
   "metadata": {},
   "outputs": [
    {
     "data": {
      "text/plain": [
       "<function matplotlib.pyplot.show(*args, **kw)>"
      ]
     },
     "execution_count": 46,
     "metadata": {},
     "output_type": "execute_result"
    },
    {
     "data": {
      "image/png": "[encoded data removed]",
      "text/plain": [
       "<Figure size 432x288 with 1 Axes>"
      ]
     },
     "metadata": {
      "needs_background": "light"
     },
     "output_type": "display_data"
    }
   ],
   "source": [
    "plt.plot(visualization['Month'],visualization['Cupcake: (Worldwide)'])\n",
    "plt.xscale('log')\n",
    "plt.title('Lineplot of Cupcake by Month')\n",
    "plt.xlabel('Month')\n",
    "plt.ylabel('Cupcakes')\n",
    "plt.show"
   ]
  },
  {
   "cell_type": "code",
   "execution_count": 47,
   "metadata": {},
   "outputs": [
    {
     "data": {
      "text/plain": [
       "<function matplotlib.pyplot.show(*args, **kw)>"
      ]
     },
     "execution_count": 47,
     "metadata": {},
     "output_type": "execute_result"
    },
    {
     "data": {
      "image/png": "[encoded data removed]",
      "text/plain": [
       "<Figure size 432x288 with 1 Axes>"
      ]
     },
     "metadata": {
      "needs_background": "light"
     },
     "output_type": "display_data"
    }
   ],
   "source": [
    "plt.plot(visualization['Month'],visualization['Cupcake: (Worldwide)'])\n",
    "plt.title('Lineplot of Cupcake by Month')\n",
    "plt.xlabel('Month')\n",
    "plt.ylabel('Cupcakes')\n",
    "plt.xticks([0,30,60,90,120,150])\n",
    "plt.show"
   ]
  },
  {
   "cell_type": "markdown",
   "metadata": {},
   "source": [
    "Scatter Plot"
   ]
  },
  {
   "cell_type": "code",
   "execution_count": 50,
   "metadata": {},
   "outputs": [
    {
     "data": {
      "text/plain": [
       "<function matplotlib.pyplot.show(*args, **kw)>"
      ]
     },
     "execution_count": 50,
     "metadata": {},
     "output_type": "execute_result"
    },
    {
     "data": {
      "image/png": "[encoded data removed]",
      "text/plain": [
       "<Figure size 432x288 with 1 Axes>"
      ]
     },
     "metadata": {
      "needs_background": "light"
     },
     "output_type": "display_data"
    }
   ],
   "source": [
    "plt.scatter(visualization['Month'],visualization['Cupcake: (Worldwide)'])\n",
    "plt.title('Scatter Plot of Cupcake by Month')\n",
    "plt.xlabel('Month')\n",
    "plt.ylabel('Cupcakes')\n",
    "plt.show"
   ]
  },
  {
   "cell_type": "code",
   "execution_count": 51,
   "metadata": {},
   "outputs": [
    {
     "data": {
      "text/plain": [
       "<function matplotlib.pyplot.show(*args, **kw)>"
      ]
     },
     "execution_count": 51,
     "metadata": {},
     "output_type": "execute_result"
    },
    {
     "data": {
      "image/png": "[encoded data removed]",
      "text/plain": [
       "<Figure size 432x288 with 1 Axes>"
      ]
     },
     "metadata": {
      "needs_background": "light"
     },
     "output_type": "display_data"
    }
   ],
   "source": [
    "plt.scatter(visualization['Month'],visualization['Cupcake: (Worldwide)'])\n",
    "plt.title('Scatter Plot of Cupcake by Month')\n",
    "plt.xlabel('Month')\n",
    "plt.ylabel('Cupcakes')\n",
    "plt.xticks([0,30,60,90,120,150])\n",
    "plt.show"
   ]
  },
  {
   "cell_type": "markdown",
   "metadata": {},
   "source": [
    "Histogram"
   ]
  },
  {
   "cell_type": "code",
   "execution_count": 52,
   "metadata": {},
   "outputs": [
    {
     "data": {
      "image/png": "[encoded data removed]",
      "text/plain": [
       "<Figure size 432x288 with 1 Axes>"
      ]
     },
     "metadata": {
      "needs_background": "light"
     },
     "output_type": "display_data"
    }
   ],
   "source": [
    "plt.hist(visualization['Cupcake: (Worldwide)'], bins=None)\n",
    "plt.title('Histogram of Cupcake')\n",
    "plt.xlabel('Cupcakes')\n",
    "plt.ylabel('Frequency')\n",
    "plt.show()"
   ]
  },
  {
   "cell_type": "code",
   "execution_count": 53,
   "metadata": {},
   "outputs": [
    {
     "data": {
      "image/png": "[encoded data removed]",
      "text/plain": [
       "<Figure size 432x288 with 1 Axes>"
      ]
     },
     "metadata": {
      "needs_background": "light"
     },
     "output_type": "display_data"
    }
   ],
   "source": [
    "plt.hist(visualization['Cupcake: (Worldwide)'], bins=40)\n",
    "plt.title('Histogram of Cupcake')\n",
    "plt.xlabel('Cupcakes')\n",
    "plt.ylabel('Frequency')\n",
    "plt.show()"
   ]
  },
  {
   "cell_type": "markdown",
   "metadata": {},
   "source": [
    "Bar Plot"
   ]
  },
  {
   "cell_type": "code",
   "execution_count": 54,
   "metadata": {},
   "outputs": [
    {
     "data": {
      "image/png": "[encoded data removed]",
      "text/plain": [
       "<Figure size 432x288 with 1 Axes>"
      ]
     },
     "metadata": {
      "needs_background": "light"
     },
     "output_type": "display_data"
    }
   ],
   "source": [
    "plt.bar(visualization['Month'],visualization['Cupcake: (Worldwide)'])\n",
    "plt.title('Bar Chart of Cupcake')\n",
    "plt.xlabel('Month')\n",
    "plt.ylabel('Cupcakes')\n",
    "plt.xticks([0,30,60,90,120,150])\n",
    "plt.show()"
   ]
  },
  {
   "cell_type": "markdown",
   "metadata": {},
   "source": [
    "Pie Chart"
   ]
  },
  {
   "cell_type": "code",
   "execution_count": 55,
   "metadata": {},
   "outputs": [
    {
     "data": {
      "text/plain": [
       "([<matplotlib.patches.Wedge at 0x248a460f148>,\n",
       "  <matplotlib.patches.Wedge at 0x248a460f848>,\n",
       "  <matplotlib.patches.Wedge at 0x248a4549d88>,\n",
       "  <matplotlib.patches.Wedge at 0x248a4622208>,\n",
       "  <matplotlib.patches.Wedge at 0x248a4616088>,\n",
       "  <matplotlib.patches.Wedge at 0x248a4543448>,\n",
       "  <matplotlib.patches.Wedge at 0x248a4543648>,\n",
       "  <matplotlib.patches.Wedge at 0x248a4543288>,\n",
       "  <matplotlib.patches.Wedge at 0x248a4622ac8>,\n",
       "  <matplotlib.patches.Wedge at 0x248a31ae308>,\n",
       "  <matplotlib.patches.Wedge at 0x248a462cf08>,\n",
       "  <matplotlib.patches.Wedge at 0x248a316fac8>,\n",
       "  <matplotlib.patches.Wedge at 0x248a45a5f08>,\n",
       "  <matplotlib.patches.Wedge at 0x248a45a5588>,\n",
       "  <matplotlib.patches.Wedge at 0x248a45c4888>,\n",
       "  <matplotlib.patches.Wedge at 0x248a45cda08>,\n",
       "  <matplotlib.patches.Wedge at 0x248a45cdd88>,\n",
       "  <matplotlib.patches.Wedge at 0x248a45b4b88>,\n",
       "  <matplotlib.patches.Wedge at 0x248a4517308>,\n",
       "  <matplotlib.patches.Wedge at 0x248a4517508>,\n",
       "  <matplotlib.patches.Wedge at 0x248a45bc608>,\n",
       "  <matplotlib.patches.Wedge at 0x248a45d4a08>,\n",
       "  <matplotlib.patches.Wedge at 0x248a4546488>,\n",
       "  <matplotlib.patches.Wedge at 0x248a45460c8>,\n",
       "  <matplotlib.patches.Wedge at 0x248a453cd48>,\n",
       "  <matplotlib.patches.Wedge at 0x248a4226cc8>,\n",
       "  <matplotlib.patches.Wedge at 0x248a4226748>,\n",
       "  <matplotlib.patches.Wedge at 0x248a45402c8>,\n",
       "  <matplotlib.patches.Wedge at 0x248a4236fc8>,\n",
       "  <matplotlib.patches.Wedge at 0x248a4236808>,\n",
       "  <matplotlib.patches.Wedge at 0x248a4320f48>,\n",
       "  <matplotlib.patches.Wedge at 0x248a4325d08>,\n",
       "  <matplotlib.patches.Wedge at 0x248a4325e48>,\n",
       "  <matplotlib.patches.Wedge at 0x248a4249a08>,\n",
       "  <matplotlib.patches.Wedge at 0x248a434cdc8>,\n",
       "  <matplotlib.patches.Wedge at 0x248a434c548>,\n",
       "  <matplotlib.patches.Wedge at 0x248a425df88>,\n",
       "  <matplotlib.patches.Wedge at 0x248a43486c8>,\n",
       "  <matplotlib.patches.Wedge at 0x248a4348e08>,\n",
       "  <matplotlib.patches.Wedge at 0x248a43fef08>,\n",
       "  <matplotlib.patches.Wedge at 0x248a43fe408>,\n",
       "  <matplotlib.patches.Wedge at 0x248a43ff048>,\n",
       "  <matplotlib.patches.Wedge at 0x248a43ffd88>,\n",
       "  <matplotlib.patches.Wedge at 0x248a43b68c8>,\n",
       "  <matplotlib.patches.Wedge at 0x248a4419e08>,\n",
       "  <matplotlib.patches.Wedge at 0x248a4419508>,\n",
       "  <matplotlib.patches.Wedge at 0x248a43f72c8>,\n",
       "  <matplotlib.patches.Wedge at 0x248a4400048>,\n",
       "  <matplotlib.patches.Wedge at 0x248a4400488>,\n",
       "  <matplotlib.patches.Wedge at 0x248a43f8288>,\n",
       "  <matplotlib.patches.Wedge at 0x248a43f6e08>,\n",
       "  <matplotlib.patches.Wedge at 0x248a440cd08>,\n",
       "  <matplotlib.patches.Wedge at 0x248a43fde48>,\n",
       "  <matplotlib.patches.Wedge at 0x248a43fdd08>,\n",
       "  <matplotlib.patches.Wedge at 0x248a4408608>,\n",
       "  <matplotlib.patches.Wedge at 0x248a43efd08>,\n",
       "  <matplotlib.patches.Wedge at 0x248a4404ac8>,\n",
       "  <matplotlib.patches.Wedge at 0x248a4404608>,\n",
       "  <matplotlib.patches.Wedge at 0x248a4402888>,\n",
       "  <matplotlib.patches.Wedge at 0x248a4402788>,\n",
       "  <matplotlib.patches.Wedge at 0x248a4341b48>,\n",
       "  <matplotlib.patches.Wedge at 0x248a43f5f48>,\n",
       "  <matplotlib.patches.Wedge at 0x248a43f59c8>,\n",
       "  <matplotlib.patches.Wedge at 0x248a43f9e08>,\n",
       "  <matplotlib.patches.Wedge at 0x248a4407248>,\n",
       "  <matplotlib.patches.Wedge at 0x248a43c6288>,\n",
       "  <matplotlib.patches.Wedge at 0x248a43c6708>,\n",
       "  <matplotlib.patches.Wedge at 0x248a43f09c8>,\n",
       "  <matplotlib.patches.Wedge at 0x248a42f4e88>,\n",
       "  <matplotlib.patches.Wedge at 0x248a42f4d88>,\n",
       "  <matplotlib.patches.Wedge at 0x248a43fc2c8>,\n",
       "  <matplotlib.patches.Wedge at 0x248a433a188>,\n",
       "  <matplotlib.patches.Wedge at 0x248a434a7c8>,\n",
       "  <matplotlib.patches.Wedge at 0x248a434ae08>,\n",
       "  <matplotlib.patches.Wedge at 0x248a43f3188>,\n",
       "  <matplotlib.patches.Wedge at 0x248a4351bc8>,\n",
       "  <matplotlib.patches.Wedge at 0x248a4351088>,\n",
       "  <matplotlib.patches.Wedge at 0x248a4357248>,\n",
       "  <matplotlib.patches.Wedge at 0x248a434dac8>,\n",
       "  <matplotlib.patches.Wedge at 0x248a434d5c8>,\n",
       "  <matplotlib.patches.Wedge at 0x248a435ff08>,\n",
       "  <matplotlib.patches.Wedge at 0x248a4366148>,\n",
       "  <matplotlib.patches.Wedge at 0x248a4366288>,\n",
       "  <matplotlib.patches.Wedge at 0x248a4370d88>,\n",
       "  <matplotlib.patches.Wedge at 0x248a4327a08>,\n",
       "  <matplotlib.patches.Wedge at 0x248a4327d88>,\n",
       "  <matplotlib.patches.Wedge at 0x248a437ce48>,\n",
       "  <matplotlib.patches.Wedge at 0x248a4381fc8>,\n",
       "  <matplotlib.patches.Wedge at 0x248a4375b88>,\n",
       "  <matplotlib.patches.Wedge at 0x248a4416908>,\n",
       "  <matplotlib.patches.Wedge at 0x248a4416cc8>,\n",
       "  <matplotlib.patches.Wedge at 0x248a2094888>,\n",
       "  <matplotlib.patches.Wedge at 0x248a435b5c8>,\n",
       "  <matplotlib.patches.Wedge at 0x248a4305a08>,\n",
       "  <matplotlib.patches.Wedge at 0x248a4305388>,\n",
       "  <matplotlib.patches.Wedge at 0x248a42de488>,\n",
       "  <matplotlib.patches.Wedge at 0x248a42de0c8>,\n",
       "  <matplotlib.patches.Wedge at 0x248a440ba08>,\n",
       "  <matplotlib.patches.Wedge at 0x248a440d648>,\n",
       "  <matplotlib.patches.Wedge at 0x248a440d688>,\n",
       "  <matplotlib.patches.Wedge at 0x248a43844c8>,\n",
       "  <matplotlib.patches.Wedge at 0x248a4369608>,\n",
       "  <matplotlib.patches.Wedge at 0x248a4303888>,\n",
       "  <matplotlib.patches.Wedge at 0x248a4303a88>,\n",
       "  <matplotlib.patches.Wedge at 0x248a43ed288>,\n",
       "  <matplotlib.patches.Wedge at 0x248a43f2088>,\n",
       "  <matplotlib.patches.Wedge at 0x248a44787c8>,\n",
       "  <matplotlib.patches.Wedge at 0x248a44783c8>,\n",
       "  <matplotlib.patches.Wedge at 0x248a2908dc8>,\n",
       "  <matplotlib.patches.Wedge at 0x248a303bec8>,\n",
       "  <matplotlib.patches.Wedge at 0x248a42dae48>,\n",
       "  <matplotlib.patches.Wedge at 0x248a42da388>,\n",
       "  <matplotlib.patches.Wedge at 0x248a42fe608>,\n",
       "  <matplotlib.patches.Wedge at 0x248a440ac08>,\n",
       "  <matplotlib.patches.Wedge at 0x248a440aac8>,\n",
       "  <matplotlib.patches.Wedge at 0x248a42a8d88>,\n",
       "  <matplotlib.patches.Wedge at 0x248a41f4fc8>,\n",
       "  <matplotlib.patches.Wedge at 0x248a41f4788>,\n",
       "  <matplotlib.patches.Wedge at 0x248a425ea48>,\n",
       "  <matplotlib.patches.Wedge at 0x248a425e2c8>,\n",
       "  <matplotlib.patches.Wedge at 0x248a424c288>,\n",
       "  <matplotlib.patches.Wedge at 0x248a424ce88>,\n",
       "  <matplotlib.patches.Wedge at 0x248a3042cc8>,\n",
       "  <matplotlib.patches.Wedge at 0x248a30422c8>,\n",
       "  <matplotlib.patches.Wedge at 0x248a305d5c8>,\n",
       "  <matplotlib.patches.Wedge at 0x248a31f00c8>,\n",
       "  <matplotlib.patches.Wedge at 0x248a2940cc8>,\n",
       "  <matplotlib.patches.Wedge at 0x248a3027f48>,\n",
       "  <matplotlib.patches.Wedge at 0x248a31ea7c8>,\n",
       "  <matplotlib.patches.Wedge at 0x248a31eae48>,\n",
       "  <matplotlib.patches.Wedge at 0x248a31d7b48>,\n",
       "  <matplotlib.patches.Wedge at 0x248a31d79c8>,\n",
       "  <matplotlib.patches.Wedge at 0x248a300e508>,\n",
       "  <matplotlib.patches.Wedge at 0x248a2946208>,\n",
       "  <matplotlib.patches.Wedge at 0x248a2946848>,\n",
       "  <matplotlib.patches.Wedge at 0x248a2905388>,\n",
       "  <matplotlib.patches.Wedge at 0x248a31ee5c8>,\n",
       "  <matplotlib.patches.Wedge at 0x248a44bc448>,\n",
       "  <matplotlib.patches.Wedge at 0x248a44bcb48>,\n",
       "  <matplotlib.patches.Wedge at 0x248a31ff0c8>,\n",
       "  <matplotlib.patches.Wedge at 0x248a31ff6c8>,\n",
       "  <matplotlib.patches.Wedge at 0x248a3054948>,\n",
       "  <matplotlib.patches.Wedge at 0x248a4313d88>,\n",
       "  <matplotlib.patches.Wedge at 0x248a4313f48>,\n",
       "  <matplotlib.patches.Wedge at 0x248a43d5d08>,\n",
       "  <matplotlib.patches.Wedge at 0x248a41ebc48>,\n",
       "  <matplotlib.patches.Wedge at 0x248a41eb848>,\n",
       "  <matplotlib.patches.Wedge at 0x248a4379788>,\n",
       "  <matplotlib.patches.Wedge at 0x248a43eaf48>,\n",
       "  <matplotlib.patches.Wedge at 0x248a43ea908>,\n",
       "  <matplotlib.patches.Wedge at 0x248a430cc08>,\n",
       "  <matplotlib.patches.Wedge at 0x248a4422988>,\n",
       "  <matplotlib.patches.Wedge at 0x248a4401308>,\n",
       "  <matplotlib.patches.Wedge at 0x248a4401888>,\n",
       "  <matplotlib.patches.Wedge at 0x248a42faa48>,\n",
       "  <matplotlib.patches.Wedge at 0x248a42fa408>,\n",
       "  <matplotlib.patches.Wedge at 0x248a444d088>,\n",
       "  <matplotlib.patches.Wedge at 0x248a4319dc8>,\n",
       "  <matplotlib.patches.Wedge at 0x248a4319ac8>,\n",
       "  <matplotlib.patches.Wedge at 0x248a4495688>,\n",
       "  <matplotlib.patches.Wedge at 0x248a4417788>,\n",
       "  <matplotlib.patches.Wedge at 0x248a44178c8>,\n",
       "  <matplotlib.patches.Wedge at 0x248a43fa188>,\n",
       "  <matplotlib.patches.Wedge at 0x248a444ed48>,\n",
       "  <matplotlib.patches.Wedge at 0x248a41fe188>,\n",
       "  <matplotlib.patches.Wedge at 0x248a41fe848>,\n",
       "  <matplotlib.patches.Wedge at 0x248a4451988>,\n",
       "  <matplotlib.patches.Wedge at 0x248a43dacc8>,\n",
       "  <matplotlib.patches.Wedge at 0x248a43da5c8>,\n",
       "  <matplotlib.patches.Wedge at 0x248a4476d88>,\n",
       "  <matplotlib.patches.Wedge at 0x248a440f3c8>,\n",
       "  <matplotlib.patches.Wedge at 0x248a4695a48>,\n",
       "  <matplotlib.patches.Wedge at 0x248a4695048>,\n",
       "  <matplotlib.patches.Wedge at 0x248a45dde08>,\n",
       "  <matplotlib.patches.Wedge at 0x248a445ec88>,\n",
       "  <matplotlib.patches.Wedge at 0x248a445ea08>,\n",
       "  <matplotlib.patches.Wedge at 0x248a48c3e88>,\n",
       "  <matplotlib.patches.Wedge at 0x248a45d5908>,\n",
       "  <matplotlib.patches.Wedge at 0x248a462f388>,\n",
       "  <matplotlib.patches.Wedge at 0x248a462f488>,\n",
       "  <matplotlib.patches.Wedge at 0x248a465c848>,\n",
       "  <matplotlib.patches.Wedge at 0x248a464e708>,\n",
       "  <matplotlib.patches.Wedge at 0x248a464ec48>,\n",
       "  <matplotlib.patches.Wedge at 0x248a464d788>,\n",
       "  <matplotlib.patches.Wedge at 0x248a4641208>,\n",
       "  <matplotlib.patches.Wedge at 0x248a4641308>,\n",
       "  <matplotlib.patches.Wedge at 0x248a463c6c8>,\n",
       "  <matplotlib.patches.Wedge at 0x248a463d148>,\n",
       "  <matplotlib.patches.Wedge at 0x248a463d248>,\n",
       "  <matplotlib.patches.Wedge at 0x248a446e608>],\n",
       " [Text(1.0999984794018136, 0.001829019873550418, '2004-01'),\n",
       "  Text(1.0999844291075054, 0.00585283871602196, '2004-02'),\n",
       "  Text(1.0999523143733017, 0.010242368125464116, '2004-03'),\n",
       "  Text(1.0999074880797033, 0.01426596180415502, '2004-04'),\n",
       "  Text(1.099847943646314, 0.018289364586409302, '2004-05'),\n",
       "  Text(1.099773681869913, 0.022312522634058557, '2004-06'),\n",
       "  Text(1.0996934007493078, 0.025969681330785283, '2004-07'),\n",
       "  Text(1.0995910451524051, 0.0299922226692406, '2004-08'),\n",
       "  Text(1.0994626034043957, 0.03437999004113702, '2004-09'),\n",
       "  Text(1.099277429852065, 0.03986392125517418, '2004-10'),\n",
       "  Text(1.0990649035601519, 0.045346860556317294, '2004-11'),\n",
       "  Text(1.0988751920885518, 0.04973240605831062, '2004-12'),\n",
       "  Text(1.0986499238855278, 0.054482517804559545, '2005-01'),\n",
       "  Text(1.0983644846568483, 0.05996214509585452, '2005-02'),\n",
       "  Text(1.0980298925724299, 0.06580543303845283, '2005-03'),\n",
       "  Text(1.0976642144760325, 0.07164685798215326, '2005-04'),\n",
       "  Text(1.097293168043365, 0.07712135479460812, '2005-05'),\n",
       "  Text(1.096922224142684, 0.08222915651925422, '2005-06'),\n",
       "  Text(1.096527504010548, 0.08733517589378044, '2005-07'),\n",
       "  Text(1.096109016202676, 0.09243930224315823, '2005-08'),\n",
       "  Text(1.0956342718777476, 0.09790578270417903, '2005-09'),\n",
       "  Text(1.0949588738966534, 0.10519061020344538, '2005-10'),\n",
       "  Text(1.0942350399354765, 0.11247078455050469, '2005-11'),\n",
       "  Text(1.0936211202971096, 0.11829135741927778, '2005-12'),\n",
       "  Text(1.0929349068108294, 0.12447204294299953, '2006-01'),\n",
       "  Text(1.0920390081792353, 0.13210149361347917, '2006-02'),\n",
       "  Text(1.091043325715744, 0.14008733494191866, '2006-03'),\n",
       "  Text(1.0900384241758487, 0.1477031950237801, '2006-04'),\n",
       "  Text(1.0889286528726356, 0.15567398290333348, '2006-05'),\n",
       "  Text(1.0878149538994606, 0.1632746951389416, '2006-06'),\n",
       "  Text(1.086704964470056, 0.1705060708483268, '2006-07'),\n",
       "  Text(1.0854877401745162, 0.17809089232979375, '2006-08'),\n",
       "  Text(1.0840318072713195, 0.1867486032720918, '2006-09'),\n",
       "  Text(1.0821804351321438, 0.19719408159781165, '2006-10'),\n",
       "  Text(1.0802973997959358, 0.2072619791330292, '2006-11'),\n",
       "  Text(1.0786805451712909, 0.21551863369316057, '2006-12'),\n",
       "  Text(1.0769261146360138, 0.22412082369779807, '2007-01'),\n",
       "  Text(1.0747146635145055, 0.23449603840343092, '2007-02'),\n",
       "  Text(1.07224017277708, 0.24556264350054863, '2007-03'),\n",
       "  Text(1.0696517296242098, 0.2566031514068686, '2007-04'),\n",
       "  Text(1.066771381907347, 0.2683259561493996, '2007-05'),\n",
       "  Text(1.0636693845578673, 0.2803701844959405, '2007-06'),\n",
       "  Text(1.0603341193633056, 0.2927311997619035, '2007-07'),\n",
       "  Text(1.0567537073297792, 0.3054039980824871, '2007-08'),\n",
       "  Text(1.05291601982383, 0.31838318925210835, '2007-09'),\n",
       "  Text(1.0483665856145223, 0.33305780604415886, '2007-10'),\n",
       "  Text(1.043612640444766, 0.34766745131505095, '2007-11'),\n",
       "  Text(1.0392559376810098, 0.36048175542565986, '2007-12'),\n",
       "  Text(1.0347418973668119, 0.37324148460980355, '2008-01'),\n",
       "  Text(1.0290407938433257, 0.3886837333955441, '2008-02'),\n",
       "  Text(1.0225708920326078, 0.4053995199400675, '2008-03'),\n",
       "  Text(1.0161099310578179, 0.4213319451521294, '2008-04'),\n",
       "  Text(1.0091097697194569, 0.4378326993918397, '2008-05'),\n",
       "  Text(1.0016905660293522, 0.4545503381670686, '2008-06'),\n",
       "  Text(0.9939944288148055, 0.4711423091647881, '2008-07'),\n",
       "  Text(0.9858612790110352, 0.4879318994969751, '2008-08'),\n",
       "  Text(0.9771087487519319, 0.5052311284080132, '2008-09'),\n",
       "  Text(0.9670084774274438, 0.5243039238680721, '2008-10'),\n",
       "  Text(0.9563552729867139, 0.5434929547202136, '2008-11'),\n",
       "  Text(0.9464417390924035, 0.560578303632728, '2008-12'),\n",
       "  Text(0.9358387169606129, 0.5781054366095463, '2009-01'),\n",
       "  Text(0.9227268501687852, 0.5988114561175265, '2009-02'),\n",
       "  Text(0.9081260670276058, 0.620731058015444, '2009-03'),\n",
       "  Text(0.8932182312864251, 0.6419978125333067, '2009-04'),\n",
       "  Text(0.8773713760241644, 0.6634903680788928, '2009-05'),\n",
       "  Text(0.8610074859799883, 0.68459192887911, '2009-06'),\n",
       "  Text(0.8441362043911298, 0.7052900597882668, '2009-07'),\n",
       "  Text(0.8260431967257339, 0.7263970244591664, '2009-08'),\n",
       "  Text(0.8071741000300416, 0.7473084853263025, '2009-09'),\n",
       "  Text(0.7862423670189316, 0.769300292671508, '2009-10'),\n",
       "  Text(0.7647116751982694, 0.7907060476659178, '2009-11'),\n",
       "  Text(0.7450238986372205, 0.8092832572464334, '2009-12'),\n",
       "  Text(0.7246097879681105, 0.8276114155694145, '2010-01'),\n",
       "  Text(0.7003656091769981, 0.8482263928233621, '2010-02'),\n",
       "  Text(0.6735125277617513, 0.8697016010954426, '2010-03'),\n",
       "  Text(0.6460013675242882, 0.8903270371929349, '2010-04'),\n",
       "  Text(0.6163449189127262, 0.9111086328920747, '2010-05'),\n",
       "  Text(0.585401212368026, 0.9312923389344753, '2010-06'),\n",
       "  Text(0.5509501203038328, 0.9520787598393278, '2010-07'),\n",
       "  Text(0.5109089442979468, 0.9741519648578233, '2010-08'),\n",
       "  Text(0.46899263281947745, 0.9950105076636402, '2010-09'),\n",
       "  Text(0.4252147925144487, 1.014491192779363, '2010-10'),\n",
       "  Text(0.3816595287193653, 1.0316666148217224, '2010-11'),\n",
       "  Text(0.3408926743125745, 1.045845201069461, '2010-12'),\n",
       "  Text(0.2996009666898847, 1.0584135584725314, '2011-01'),\n",
       "  Text(0.25179848123017723, 1.0707929420995341, '2011-02'),\n",
       "  Text(0.19881332154607342, 1.0818841265014556, '2011-03'),\n",
       "  Text(0.14425880498091942, 1.0904996089799743, '2011-04'),\n",
       "  Text(0.09043435234637244, 1.0962762552913805, '2011-05'),\n",
       "  Text(0.038218848658825404, 1.0993358538714153, '2011-06'),\n",
       "  Text(-0.015180382974131051, 1.0998952477271455, '2011-07'),\n",
       "  Text(-0.07073425905645964, 1.0977234007689431, '2011-08'),\n",
       "  Text(-0.1275609023462504, 1.0925787002283225, '2011-09'),\n",
       "  Text(-0.18728931909203553, 1.0839385180691947, '2011-10'),\n",
       "  Text(-0.24859252410326685, 1.071541766316165, '2011-11'),\n",
       "  Text(-0.3066337672561978, 1.056397525923964, '2011-12'),\n",
       "  Text(-0.3630726577731446, 1.0383536224126853, '2012-01'),\n",
       "  Text(-0.424539948197866, 1.0147737838474906, '2012-02'),\n",
       "  Text(-0.4880958127740883, 0.9857801365174703, '2012-03'),\n",
       "  Text(-0.548098124694914, 0.9537234639589814, '2012-04'),\n",
       "  Text(-0.6072247254153151, 0.9172121525821032, '2012-05'),\n",
       "  Text(-0.6636362376509662, 0.877261046710995, '2012-06'),\n",
       "  Text(-0.7160395549242837, 0.8350373379579106, '2012-07'),\n",
       "  Text(-0.7652373944815996, 0.79019727289267, '2012-08'),\n",
       "  Text(-0.8128663142236353, 0.7411129166331419, '2012-09'),\n",
       "  Text(-0.8594115251657009, 0.6865943710899209, '2012-10'),\n",
       "  Text(-0.9004198374733824, 0.6318576709073078, '2012-11'),\n",
       "  Text(-0.9350688895953603, 0.5793497835598975, '2012-12'),\n",
       "  Text(-0.9661353517648703, 0.5259110971163953, '2013-01'),\n",
       "  Text(-0.9963322185778121, 0.46617819578334535, '2013-02'),\n",
       "  Text(-1.0247134472660815, 0.39995293597130144, '2013-03'),\n",
       "  Text(-1.0474768077116805, 0.3358457046117272, '2013-04'),\n",
       "  Text(-1.0655105796045135, 0.27328959868764496, '2013-05'),\n",
       "  Text(-1.0796722365265532, 0.21049432693958917, '2013-06'),\n",
       "  Text(-1.0899399445034261, 0.14842815560353909, '2013-07'),\n",
       "  Text(-1.0967278348077063, 0.0847824059460491, '2013-08'),\n",
       "  Text(-1.0998023887466049, 0.020849597292559658, '2013-09'),\n",
       "  Text(-1.0990191167627188, -0.04644330942228075, '2013-10'),\n",
       "  Text(-1.094008450470305, -0.11465387171640769, '2013-11'),\n",
       "  Text(-1.0856059494949886, -0.1773688879738617, '2013-12'),\n",
       "  Text(-1.0740870109553857, -0.23735436144491967, '2014-01'),\n",
       "  Text(-1.057863818016736, -0.30153630383596297, '2014-02'),\n",
       "  Text(-1.036713183476725, -0.367730574205565, '2014-03'),\n",
       "  Text(-1.0124290454059985, -0.43010164847196175, '2014-04'),\n",
       "  Text(-0.9856989674853064, -0.488259711115305, '2014-05'),\n",
       "  Text(-0.958336994344754, -0.5399909307296403, '2014-06'),\n",
       "  Text(-0.9284587520695197, -0.5898850275312219, '2014-07'),\n",
       "  Text(-0.8951356982554144, -0.6393215792610101, '2014-08'),\n",
       "  Text(-0.8591831658966325, -0.6868801114021572, '2014-09'),\n",
       "  Text(-0.818266571554211, -0.7351461200856041, '2014-10'),\n",
       "  Text(-0.774642410701695, -0.7809795999526918, '2014-11'),\n",
       "  Text(-0.7320114696491405, -0.8210719872837617, '2014-12'),\n",
       "  Text(-0.6901608970510198, -0.8565500196612758, '2015-01'),\n",
       "  Text(-0.6430370331587384, -0.8924703770918158, '2015-02'),\n",
       "  Text(-0.59189060808244, -0.9271814860445605, '2015-03'),\n",
       "  Text(-0.5436519899179505, -0.9562648764114746, '2015-04'),\n",
       "  Text(-0.4956213607438172, -0.9820180582730886, '2015-05'),\n",
       "  Text(-0.44704270247616446, -1.0050635911039698, '2015-06'),\n",
       "  Text(-0.39875999329627093, -1.025178261448397, '2015-07'),\n",
       "  Text(-0.3502692878563408, -1.0427422624908862, '2015-08'),\n",
       "  Text(-0.3010086144910699, -1.058014089699266, '2015-09'),\n",
       "  Text(-0.24716697113987876, -1.0718714887417888, '2015-10'),\n",
       "  Text(-0.19305407564882782, -1.0829266475045192, '2015-11'),\n",
       "  Text(-0.14317081382238683, -1.09064298378041, '2015-12'),\n",
       "  Text(-0.09444397657289552, -1.0959381074171564, '2016-01'),\n",
       "  Text(-0.04187447949193093, -1.0992026782933528, '2016-02'),\n",
       "  Text(0.012985721629741796, -1.0999233477991797, '2016-03'),\n",
       "  Text(0.0641621675649542, -1.0981271402954063, '2016-04'),\n",
       "  Text(0.11374429304889337, -1.0941033935596798, '2016-05'),\n",
       "  Text(0.16128476883300902, -1.0881117696921043, '2016-06'),\n",
       "  Text(0.20600443959022838, -1.080537908112953, '2016-07'),\n",
       "  Text(0.2485925084274887, -1.07154176995287, '2016-08'),\n",
       "  Text(0.29114409409469083, -1.0607710009581626, '2016-09'),\n",
       "  Text(0.33601983804417473, -1.047420960474234, '2016-10'),\n",
       "  Text(0.3792569089060835, -1.0325522732757906, '2016-11'),\n",
       "  Text(0.4184580433393762, -1.0172968426003204, '2016-12'),\n",
       "  Text(0.4563816719916946, -1.0008575170672724, '2017-01'),\n",
       "  Text(0.4985582169989468, -0.9805303178702999, '2017-02'),\n",
       "  Text(0.5411059848874802, -0.9577078433003199, '2017-03'),\n",
       "  Text(0.5785721653237292, -0.9355502389036152, '2017-04'),\n",
       "  Text(0.6139188025819238, -0.9127451472543566, '2017-05'),\n",
       "  Text(0.6471850761033162, -0.88946696243826, '2017-06'),\n",
       "  Text(0.6781304415567392, -0.8661057119278582, '2017-07'),\n",
       "  Text(0.7079533291154337, -0.8419038447437894, '2017-08'),\n",
       "  Text(0.7374561431288963, -0.8161852957272956, '2017-09'),\n",
       "  Text(0.7675989652393622, -0.7879034386036532, '2017-10'),\n",
       "  Text(0.7961533208399407, -0.7590387932876254, '2017-11'),\n",
       "  Text(0.821193687054175, -0.731874940370532, '2017-12'),\n",
       "  Text(0.8446050856934074, -0.7047284932659045, '2018-01'),\n",
       "  Text(0.869141349336476, -0.674235355698268, '2018-02'),\n",
       "  Text(0.8938582557172524, -0.641106402000566, '2018-03'),\n",
       "  Text(0.9158974304081735, -0.6092059561196898, '2018-04'),\n",
       "  Text(0.9362229907503883, -0.5774829102150111, '2018-05'),\n",
       "  Text(0.9547243329480628, -0.5463528604087992, '2018-06'),\n",
       "  Text(0.9711621843217925, -0.5165694645866371, '2018-07'),\n",
       "  Text(0.9866712084576968, -0.4862920176196892, '2018-08'),\n",
       "  Text(1.0015393360424507, -0.4548834557990068, '2018-09'),\n",
       "  Text(1.0161099174975863, -0.42133197785481263, '2018-10'),\n",
       "  Text(1.0294280387318908, -0.38765695282377327, '2018-11'),\n",
       "  Text(1.0410411580668248, -0.3552932693014105, '2018-12'),\n",
       "  Text(1.0520652598669857, -0.32118326385571827, '2019-01'),\n",
       "  Text(1.0627311269814257, -0.28390588536483147, '2019-02'),\n",
       "  Text(1.0719946464802395, -0.2466322726605476, '2019-03'),\n",
       "  Text(1.0793912782959947, -0.21193033840990996, '2019-04'),\n",
       "  Text(1.0854284505146168, -0.17845189495614258, '2019-05'),\n",
       "  Text(1.0902825056120335, -0.14589056842834694, '2019-06'),\n",
       "  Text(1.0939702574805221, -0.1150177192783798, '2019-07'),\n",
       "  Text(1.0967278331953199, -0.08478242680354765, '2019-08'),\n",
       "  Text(1.0987037300407816, -0.053386455159276425, '2019-09'),\n",
       "  Text(1.099841800238671, -0.018655145342760075, '2019-10')])"
      ]
     },
     "execution_count": 55,
     "metadata": {},
     "output_type": "execute_result"
    },
    {
     "data": {
      "image/png": "[encoded data removed]",
      "text/plain": [
       "<Figure size 432x288 with 1 Axes>"
      ]
     },
     "metadata": {},
     "output_type": "display_data"
    }
   ],
   "source": [
    "plt.pie(visualization['Cupcake: (Worldwide)'], labels =visualization['Month'] )"
   ]
  },
  {
   "cell_type": "code",
   "execution_count": null,
   "metadata": {},
   "outputs": [],
   "source": []
  }
 ],
 "metadata": {
  "kernelspec": {
   "display_name": "Python 3",
   "language": "python",
   "name": "python3"
  },
  "language_info": {
   "codemirror_mode": {
    "name": "ipython",
    "version": 3
   },
   "file_extension": ".py",
   "mimetype": "text/x-python",
   "name": "python",
   "nbconvert_exporter": "python",
   "pygments_lexer": "ipython3",
   "version": "3.7.6"
  }
 },
 "nbformat": 4,
 "nbformat_minor": 4
}
